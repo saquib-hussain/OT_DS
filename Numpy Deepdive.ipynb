{
 "cells": [
  {
   "cell_type": "markdown",
   "metadata": {},
   "source": [
    "# Numpy Deepdive"
   ]
  },
  {
   "cell_type": "code",
   "execution_count": 1,
   "metadata": {},
   "outputs": [],
   "source": [
    "import numpy as np\n",
    "np.random.seed(0)"
   ]
  },
  {
   "cell_type": "code",
   "execution_count": 18,
   "metadata": {},
   "outputs": [],
   "source": [
    "a1 = np.random.randint(10, size = 6)\n",
    "a2 = np.random.randint(100, size = (10,10))\n",
    "a3 = np.random.randint(1000, size = (10,10,10))"
   ]
  },
  {
   "cell_type": "code",
   "execution_count": 19,
   "metadata": {},
   "outputs": [
    {
     "name": "stdout",
     "output_type": "stream",
     "text": [
      "[9 0 6 0 4 8]\n",
      "[[63 67 51  8 56 91 93 87 32 19]\n",
      " [72 71 87 13 58 81 55 64 75 92]\n",
      " [36 25 32 42 14 86 28 20 82 68]\n",
      " [22 99 83  7 72 61 13  5  0  8]\n",
      " [79 79 53 11  4 39 92 45 26 74]\n",
      " [52 49 91 51 99 18 34 51 30 53]\n",
      " [58 43 55 18 45 87 65 70 53 48]\n",
      " [94 59 80 26 35 58 49 73 44 13]\n",
      " [70 38 39  8 13  7 80 22 79 89]\n",
      " [ 8 99  6 81 71 84 89 66 60 16]]\n",
      "[[[ 56 882 749 663 280   4 612 305 343 542]\n",
      "  [566 153 788 353 357 697 407 411  29 929]\n",
      "  [371 821 631 947 854 502   7 617 137 694]\n",
      "  [896 851 376 932 721 148 885 259 126 810]\n",
      "  [577 532 804 324 976 112 943 650 237 360]\n",
      "  [990 859 555  63 927 916 454 265 444 603]\n",
      "  [623 419 339 844 274 369 842 226 225 939]\n",
      "  [643 908 228 826 897 369 128 807  24 698]\n",
      "  [292 355 837 134   3 226 889 680 444 417]\n",
      "  [284 836  26 736 248 365 947 201 437 197]]\n",
      "\n",
      " [[929 647 637 606  72 246 852 135 707 213]\n",
      "  [475 620 323 102 852 327 595 223 256 645]\n",
      "  [347 107 926 969 979 519 149 997 476 392]\n",
      "  [683 558   0 360 691 550  89  74 499 738]\n",
      "  [635 343  96 851 282 718  32 115 454 865]\n",
      "  [428 827 825 690 173 745 132 441  93 347]\n",
      "  [401 419 706 404 941 185 975 375 676 873]\n",
      "  [702 516 497 498 205 414 365 855 738 419]\n",
      "  [585 218 951 538 374  22 460 719 354 602]\n",
      "  [ 51 998 814 720 573 444 815 104 640 394]]\n",
      "\n",
      " [[971 909 327 606 518 685 245 414 527 169]\n",
      "  [166 309 939 594 391 220 833 681 834 114]\n",
      "  [860 334 741 219 246 100 415 221 178 508]\n",
      "  [174 605 626 673 780 736 745 848  66 456]\n",
      "  [125 138 624 730 155 696 120 321 448 709]\n",
      "  [856 290 975   3 700 238 677 171 723 856]\n",
      "  [582 660 902 796 627 902 834 604 988 614]\n",
      "  [869 379 709 109 329 100 694 845 917 507]\n",
      "  [671 593  35 237 243 250 392 766 281  21]\n",
      "  [429 229 982 400 153 119 677 895 385 389]]\n",
      "\n",
      " [[710 396 346 586 950  78 830 584 199 813]\n",
      "  [133 559 699 170 451 138 754 313 475 345]\n",
      "  [387 125 718 850 197 698 900  17 709 447]\n",
      "  [350 664 643 325 424 164 570 177 439 664]\n",
      "  [673 914 865 462 753 135 949 747  46 496]\n",
      "  [639 929 337 157 524 630 814 886 288 802]\n",
      "  [115 599 636 409 174 498 875 564 622 576]\n",
      "  [332 886 585 146 772 775 643  48  76 293]\n",
      "  [116 493 560 109 978 179 561  71 858 433]\n",
      "  [285 515  74 596 490 321 887 532 208  42]]\n",
      "\n",
      " [[498  28 410 855 180 304 962 614 777 258]\n",
      "  [372 876 745 857 380 885 612  90  68 617]\n",
      "  [522  12 616 225 421 167 928 378 289 922]\n",
      "  [ 99 217 306 344 210 788 734 668 584 274]\n",
      "  [409 920 551 234 635 284 664 658 707 172]\n",
      "  [723 301 822   0 138 707 902 731 867 441]\n",
      "  [966 915 162  50 242 870  20 683 630 128]\n",
      "  [484 365 105 706 225 652 783 118 545 151]\n",
      "  [908 901  38 769 266   6 893 262 614 934]\n",
      "  [331 370 341 382 370 690 819 258 332 669]]\n",
      "\n",
      " [[521 627 968 389 628 181 235 193 811 591]\n",
      "  [ 62 332 559 588 661 120 786 345 525 222]\n",
      "  [604 236 105 213 518 612 560 552 922 158]\n",
      "  [389 143 959 485  37 571 625  95 352 496]\n",
      "  [208 288  62 394 396 605 832 413 346 999]\n",
      "  [150 403 389 804 595 127 484 773 348 460]\n",
      "  [154 753  83 908 998 135 180 592 413   0]\n",
      "  [727 719 842 764 643 573 323 144 880 457]\n",
      "  [596 116 741 767 824 318 952 560 145 885]\n",
      "  [953 521 492 190  79 742 206 417 900 912]]\n",
      "\n",
      " [[228 839 318 791 859 366   7 509 790 866]\n",
      "  [158 758 592 155 559 495 626 523 983 846]\n",
      "  [999 798  90 290 566 849 675  71 877 827]\n",
      "  [624 421  68 437  13 101 787 875 264 864]\n",
      "  [721 197 380 100 385 765 157 901 976 230]\n",
      "  [504 936 662  30 255 531 772 660 874 586]\n",
      "  [123 451 214 316 741 250 605 681 552 188]\n",
      "  [209 691 296  59 490 478 541 225 606 238]\n",
      "  [677 382 216 272 867 167 669 508  65 791]\n",
      "  [200 384  87 805 367 447 410 729 345 134]]\n",
      "\n",
      " [[216 503 463 101 297 913 976 880  43 110]\n",
      "  [453 374 915 751 790 365 907 523 929 903]\n",
      "  [119 282 560 199 239 694 608 356 850 599]\n",
      "  [405 510 514 264 266 261 294 934 612 449]\n",
      "  [629 571 676 901 261  38 675  88 945 719]\n",
      "  [340 370 265 132 945  24 606 386 851 899]\n",
      "  [589 267 397 484  81 154 966 687 610 533]\n",
      "  [916 682 890 441 145 613 985 244 469 183]\n",
      "  [612 196 111 226 779 994  97 238 403 880]\n",
      "  [ 11 993 537  97 351 301 774 601 856 493]]\n",
      "\n",
      " [[550  51  16 919 730 771 858 430 634 413]\n",
      "  [770 645 377 967 783 846 419 180 359 886]\n",
      "  [263 691 358 761 947 925 695 625 395 451]\n",
      "  [717 890 311 600 507 252 504 836 117 371]\n",
      "  [470 185 349 614 907 718 594 985 236   3]\n",
      "  [165 391 797  78 779 969 523 784  60 635]\n",
      "  [103 703 699 129 914 693 284 448 853 728]\n",
      "  [585 904 978 395 476 373 947 849 439  15]\n",
      "  [131 106 472 213 284 826 725 590 879 833]\n",
      "  [844 267 281 359 779 858 749 418 897 656]]\n",
      "\n",
      " [[257 528 545  33 172 486 808 328 205 106]\n",
      "  [595 754 416 919 324 415 662  64 741 287]\n",
      "  [ 79  83 783 819 505 396 685  10 500 617]\n",
      "  [848  70  21 734 707 336 320 129 818 864]\n",
      "  [363 466 338 697 406 783 911 540 327 283]\n",
      "  [216 313 826 216 972 269 914  78 974 788]\n",
      "  [583 695 300 235 245  91  44 783 599 971]\n",
      "  [589 510 413 607 110 722 644 540 705  49]\n",
      "  [945 343 569 720  41 474 752 194 943 273]\n",
      "  [ 20 678 320 646 236 662  79  74 162 680]]]\n"
     ]
    }
   ],
   "source": [
    "print(a1)\n",
    "print(a2)\n",
    "print(a3)"
   ]
  },
  {
   "cell_type": "code",
   "execution_count": 20,
   "metadata": {},
   "outputs": [
    {
     "name": "stdout",
     "output_type": "stream",
     "text": [
      "The dimension of a1  1\n"
     ]
    }
   ],
   "source": [
    "print(\"The dimension of a1 \",a1.ndim )"
   ]
  },
  {
   "cell_type": "code",
   "execution_count": 22,
   "metadata": {},
   "outputs": [
    {
     "name": "stdout",
     "output_type": "stream",
     "text": [
      "The dimension of a2  2\n"
     ]
    }
   ],
   "source": [
    "print(\"The dimension of a2 \",a2.ndim )"
   ]
  },
  {
   "cell_type": "code",
   "execution_count": 23,
   "metadata": {},
   "outputs": [
    {
     "name": "stdout",
     "output_type": "stream",
     "text": [
      "The dimension of a3  3\n"
     ]
    }
   ],
   "source": [
    "print(\"The dimension of a3 \",a3.ndim )"
   ]
  },
  {
   "cell_type": "code",
   "execution_count": 24,
   "metadata": {},
   "outputs": [
    {
     "name": "stdout",
     "output_type": "stream",
     "text": [
      "The dimension of a2  (10, 10)\n"
     ]
    }
   ],
   "source": [
    "print(\"The dimension of a2 \",a2.shape )"
   ]
  },
  {
   "cell_type": "code",
   "execution_count": 25,
   "metadata": {},
   "outputs": [
    {
     "name": "stdout",
     "output_type": "stream",
     "text": [
      "The dimension of a2  int32\n"
     ]
    }
   ],
   "source": [
    "print(\"The dimension of a2 \",a2.dtype )"
   ]
  },
  {
   "cell_type": "code",
   "execution_count": 26,
   "metadata": {},
   "outputs": [
    {
     "name": "stdout",
     "output_type": "stream",
     "text": [
      "The dimension of a2  4\n"
     ]
    }
   ],
   "source": [
    "print(\"The dimension of a2 \",a2.itemsize )"
   ]
  },
  {
   "cell_type": "code",
   "execution_count": 27,
   "metadata": {},
   "outputs": [
    {
     "name": "stdout",
     "output_type": "stream",
     "text": [
      "The dimension of a2  400\n"
     ]
    }
   ],
   "source": [
    "print(\"The dimension of a2 \",a2.nbytes )"
   ]
  },
  {
   "cell_type": "code",
   "execution_count": 28,
   "metadata": {},
   "outputs": [],
   "source": [
    "# Accessing the Numpy Array"
   ]
  },
  {
   "cell_type": "code",
   "execution_count": 29,
   "metadata": {},
   "outputs": [
    {
     "data": {
      "text/plain": [
       "array([9, 0, 6, 0, 4, 8])"
      ]
     },
     "execution_count": 29,
     "metadata": {},
     "output_type": "execute_result"
    }
   ],
   "source": [
    "a1"
   ]
  },
  {
   "cell_type": "code",
   "execution_count": 30,
   "metadata": {},
   "outputs": [
    {
     "data": {
      "text/plain": [
       "9"
      ]
     },
     "execution_count": 30,
     "metadata": {},
     "output_type": "execute_result"
    }
   ],
   "source": [
    "a1[0]"
   ]
  },
  {
   "cell_type": "code",
   "execution_count": 31,
   "metadata": {},
   "outputs": [
    {
     "data": {
      "text/plain": [
       "8"
      ]
     },
     "execution_count": 31,
     "metadata": {},
     "output_type": "execute_result"
    }
   ],
   "source": [
    "a1[-1]"
   ]
  },
  {
   "cell_type": "code",
   "execution_count": 32,
   "metadata": {},
   "outputs": [
    {
     "data": {
      "text/plain": [
       "4"
      ]
     },
     "execution_count": 32,
     "metadata": {},
     "output_type": "execute_result"
    }
   ],
   "source": [
    "a1[-2]"
   ]
  },
  {
   "cell_type": "code",
   "execution_count": 34,
   "metadata": {},
   "outputs": [
    {
     "data": {
      "text/plain": [
       "68"
      ]
     },
     "execution_count": 34,
     "metadata": {},
     "output_type": "execute_result"
    }
   ],
   "source": [
    "a2[2,-1]"
   ]
  },
  {
   "cell_type": "code",
   "execution_count": 35,
   "metadata": {},
   "outputs": [
    {
     "data": {
      "text/plain": [
       "56"
      ]
     },
     "execution_count": 35,
     "metadata": {},
     "output_type": "execute_result"
    }
   ],
   "source": [
    "a3[0,0,0]"
   ]
  },
  {
   "cell_type": "code",
   "execution_count": 36,
   "metadata": {},
   "outputs": [],
   "source": [
    "# Slicing and Dicing in Numpy Arrays\n",
    "# x[start:stop:step]"
   ]
  },
  {
   "cell_type": "code",
   "execution_count": 38,
   "metadata": {},
   "outputs": [
    {
     "data": {
      "text/plain": [
       "array([0, 1, 2, 3, 4, 5, 6, 7, 8, 9])"
      ]
     },
     "execution_count": 38,
     "metadata": {},
     "output_type": "execute_result"
    }
   ],
   "source": [
    "x1 = np.arange(10)\n",
    "x1"
   ]
  },
  {
   "cell_type": "code",
   "execution_count": 39,
   "metadata": {},
   "outputs": [
    {
     "data": {
      "text/plain": [
       "dtype('int32')"
      ]
     },
     "execution_count": 39,
     "metadata": {},
     "output_type": "execute_result"
    }
   ],
   "source": [
    "x1.dtype"
   ]
  },
  {
   "cell_type": "code",
   "execution_count": 40,
   "metadata": {},
   "outputs": [
    {
     "data": {
      "text/plain": [
       "array([0, 1, 2, 3, 4])"
      ]
     },
     "execution_count": 40,
     "metadata": {},
     "output_type": "execute_result"
    }
   ],
   "source": [
    "x1[:5]"
   ]
  },
  {
   "cell_type": "code",
   "execution_count": 41,
   "metadata": {},
   "outputs": [
    {
     "data": {
      "text/plain": [
       "array([5, 6, 7, 8, 9])"
      ]
     },
     "execution_count": 41,
     "metadata": {},
     "output_type": "execute_result"
    }
   ],
   "source": [
    "x1[5:]"
   ]
  },
  {
   "cell_type": "code",
   "execution_count": 42,
   "metadata": {},
   "outputs": [
    {
     "data": {
      "text/plain": [
       "array([0, 2, 4, 6, 8])"
      ]
     },
     "execution_count": 42,
     "metadata": {},
     "output_type": "execute_result"
    }
   ],
   "source": [
    "x1[::2]"
   ]
  },
  {
   "cell_type": "code",
   "execution_count": 48,
   "metadata": {},
   "outputs": [
    {
     "data": {
      "text/plain": [
       "array([[ 0,  1,  2,  3,  4,  5,  6,  7,  8,  9],\n",
       "       [10, 11, 12, 13, 14, 15, 16, 17, 18, 19],\n",
       "       [20, 21, 22, 23, 24, 25, 26, 27, 28, 29],\n",
       "       [30, 31, 32, 33, 34, 35, 36, 37, 38, 39],\n",
       "       [40, 41, 42, 43, 44, 45, 46, 47, 48, 49],\n",
       "       [50, 51, 52, 53, 54, 55, 56, 57, 58, 59],\n",
       "       [60, 61, 62, 63, 64, 65, 66, 67, 68, 69],\n",
       "       [70, 71, 72, 73, 74, 75, 76, 77, 78, 79],\n",
       "       [80, 81, 82, 83, 84, 85, 86, 87, 88, 89],\n",
       "       [90, 91, 92, 93, 94, 95, 96, 97, 98, 99]])"
      ]
     },
     "execution_count": 48,
     "metadata": {},
     "output_type": "execute_result"
    }
   ],
   "source": [
    "x2 = np.arange(100).reshape(10,10)\n",
    "x2"
   ]
  },
  {
   "cell_type": "code",
   "execution_count": 52,
   "metadata": {},
   "outputs": [
    {
     "data": {
      "text/plain": [
       "array([[ 0,  1,  2],\n",
       "       [10, 11, 12],\n",
       "       [20, 21, 22]])"
      ]
     },
     "execution_count": 52,
     "metadata": {},
     "output_type": "execute_result"
    }
   ],
   "source": [
    "# Sub Arrays \n",
    "x2[0:3:1, 0:3:1]"
   ]
  },
  {
   "cell_type": "code",
   "execution_count": 54,
   "metadata": {},
   "outputs": [
    {
     "data": {
      "text/plain": [
       "array([[ 0,  1,  2],\n",
       "       [10, 11, 12],\n",
       "       [20, 21, 22]])"
      ]
     },
     "execution_count": 54,
     "metadata": {},
     "output_type": "execute_result"
    }
   ],
   "source": [
    "Subx2 =x2[:3,:3]\n",
    "Subx2"
   ]
  },
  {
   "cell_type": "code",
   "execution_count": 55,
   "metadata": {},
   "outputs": [],
   "source": [
    "CopyofSubx2 = Subx2.copy()"
   ]
  },
  {
   "cell_type": "code",
   "execution_count": 56,
   "metadata": {},
   "outputs": [
    {
     "data": {
      "text/plain": [
       "array([[ 0,  1,  2],\n",
       "       [10, 11, 12],\n",
       "       [20, 21, 22]])"
      ]
     },
     "execution_count": 56,
     "metadata": {},
     "output_type": "execute_result"
    }
   ],
   "source": [
    "CopyofSubx2"
   ]
  },
  {
   "cell_type": "code",
   "execution_count": 57,
   "metadata": {},
   "outputs": [],
   "source": [
    "x = np.array([1,2,3])\n",
    "y = np.array([10,20,30])"
   ]
  },
  {
   "cell_type": "code",
   "execution_count": 58,
   "metadata": {},
   "outputs": [
    {
     "data": {
      "text/plain": [
       "array([ 1,  2,  3, 10, 20, 30])"
      ]
     },
     "execution_count": 58,
     "metadata": {},
     "output_type": "execute_result"
    }
   ],
   "source": [
    "z = np.concatenate([x,y])\n",
    "z"
   ]
  },
  {
   "cell_type": "code",
   "execution_count": 61,
   "metadata": {},
   "outputs": [
    {
     "data": {
      "text/plain": [
       "array([11, 22, 33])"
      ]
     },
     "execution_count": 61,
     "metadata": {},
     "output_type": "execute_result"
    }
   ],
   "source": [
    "z1 = x + y\n",
    "z1"
   ]
  },
  {
   "cell_type": "code",
   "execution_count": 64,
   "metadata": {},
   "outputs": [
    {
     "data": {
      "text/plain": [
       "array([ 9, 18, 27])"
      ]
     },
     "execution_count": 64,
     "metadata": {},
     "output_type": "execute_result"
    }
   ],
   "source": [
    "z2 = y - x\n",
    "z2"
   ]
  },
  {
   "cell_type": "code",
   "execution_count": 66,
   "metadata": {},
   "outputs": [
    {
     "data": {
      "text/plain": [
       "array([10, 40, 90])"
      ]
     },
     "execution_count": 66,
     "metadata": {},
     "output_type": "execute_result"
    }
   ],
   "source": [
    "z3 = x*y\n",
    "z3"
   ]
  },
  {
   "cell_type": "code",
   "execution_count": 67,
   "metadata": {},
   "outputs": [
    {
     "data": {
      "text/plain": [
       "array([[ 1,  2,  3],\n",
       "       [10, 20, 30]])"
      ]
     },
     "execution_count": 67,
     "metadata": {},
     "output_type": "execute_result"
    }
   ],
   "source": [
    "z4 = np.vstack([x,y])\n",
    "z4"
   ]
  },
  {
   "cell_type": "code",
   "execution_count": 68,
   "metadata": {},
   "outputs": [
    {
     "data": {
      "text/plain": [
       "array([ 1,  2,  3, 10, 20, 30])"
      ]
     },
     "execution_count": 68,
     "metadata": {},
     "output_type": "execute_result"
    }
   ],
   "source": [
    "z5 = np.hstack([x,y])\n",
    "z5"
   ]
  },
  {
   "cell_type": "code",
   "execution_count": 74,
   "metadata": {},
   "outputs": [
    {
     "name": "stdout",
     "output_type": "stream",
     "text": [
      "[1 2 3]\n",
      "[10 20 30]\n"
     ]
    }
   ],
   "source": [
    "z6,z7 = np.split(z5,[3])\n",
    "print(z6)\n",
    "print(z7)"
   ]
  },
  {
   "cell_type": "code",
   "execution_count": null,
   "metadata": {},
   "outputs": [],
   "source": []
  }
 ],
 "metadata": {
  "kernelspec": {
   "display_name": "Python 3",
   "language": "python",
   "name": "python3"
  },
  "language_info": {
   "codemirror_mode": {
    "name": "ipython",
    "version": 3
   },
   "file_extension": ".py",
   "mimetype": "text/x-python",
   "name": "python",
   "nbconvert_exporter": "python",
   "pygments_lexer": "ipython3",
   "version": "3.8.5"
  }
 },
 "nbformat": 4,
 "nbformat_minor": 4
}
